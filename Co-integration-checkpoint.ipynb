{
 "cells": [
  {
   "cell_type": "code",
   "execution_count": 1,
   "metadata": {},
   "outputs": [],
   "source": [
    "import numpy as np\n",
    "import pandas as pd"
   ]
  },
  {
   "cell_type": "code",
   "execution_count": 3,
   "metadata": {},
   "outputs": [
    {
     "data": {
      "text/plain": [
       "observation_date    0\n",
       "DEXBZUS             0\n",
       "DEXUSEU             0\n",
       "DEXUSAL             0\n",
       "DEXSZUS             0\n",
       "DEXUSUK             0\n",
       "dtype: int64"
      ]
     },
     "execution_count": 3,
     "metadata": {},
     "output_type": "execute_result"
    }
   ],
   "source": [
    "forex = pd.read_excel('../0.Data/forex.xlsx')\n",
    "forex['observation_date'] = pd.to_datetime(forex['observation_date'])\n",
    "forex.set_index('observation_date')\n",
    "forex.dropna(inplace=True)\n",
    "forex.isnull().sum()"
   ]
  },
  {
   "cell_type": "code",
   "execution_count": 4,
   "metadata": {},
   "outputs": [
    {
     "data": {
      "text/html": [
       "<div>\n",
       "<table border=\"1\" class=\"dataframe\">\n",
       "  <thead>\n",
       "    <tr style=\"text-align: right;\">\n",
       "      <th></th>\n",
       "      <th>observation_date</th>\n",
       "      <th>DEXBZUS</th>\n",
       "      <th>DEXUSEU</th>\n",
       "      <th>DEXUSAL</th>\n",
       "      <th>DEXSZUS</th>\n",
       "      <th>DEXUSUK</th>\n",
       "    </tr>\n",
       "  </thead>\n",
       "  <tbody>\n",
       "    <tr>\n",
       "      <th>1</th>\n",
       "      <td>2015-01-02</td>\n",
       "      <td>2.6967</td>\n",
       "      <td>1.2015</td>\n",
       "      <td>0.7379</td>\n",
       "      <td>1.2938</td>\n",
       "      <td>1.7404</td>\n",
       "    </tr>\n",
       "    <tr>\n",
       "      <th>2</th>\n",
       "      <td>2015-01-05</td>\n",
       "      <td>2.7284</td>\n",
       "      <td>1.1918</td>\n",
       "      <td>0.7465</td>\n",
       "      <td>1.2801</td>\n",
       "      <td>1.7588</td>\n",
       "    </tr>\n",
       "    <tr>\n",
       "      <th>3</th>\n",
       "      <td>2015-01-06</td>\n",
       "      <td>2.7013</td>\n",
       "      <td>1.1936</td>\n",
       "      <td>0.7482</td>\n",
       "      <td>1.2770</td>\n",
       "      <td>1.7566</td>\n",
       "    </tr>\n",
       "    <tr>\n",
       "      <th>4</th>\n",
       "      <td>2015-01-07</td>\n",
       "      <td>2.7000</td>\n",
       "      <td>1.1820</td>\n",
       "      <td>0.7528</td>\n",
       "      <td>1.2695</td>\n",
       "      <td>1.7697</td>\n",
       "    </tr>\n",
       "    <tr>\n",
       "      <th>5</th>\n",
       "      <td>2015-01-08</td>\n",
       "      <td>2.6635</td>\n",
       "      <td>1.1811</td>\n",
       "      <td>0.7517</td>\n",
       "      <td>1.2794</td>\n",
       "      <td>1.7645</td>\n",
       "    </tr>\n",
       "  </tbody>\n",
       "</table>\n",
       "</div>"
      ],
      "text/plain": [
       "  observation_date  DEXBZUS  DEXUSEU  DEXUSAL  DEXSZUS  DEXUSUK\n",
       "1       2015-01-02   2.6967   1.2015   0.7379   1.2938   1.7404\n",
       "2       2015-01-05   2.7284   1.1918   0.7465   1.2801   1.7588\n",
       "3       2015-01-06   2.7013   1.1936   0.7482   1.2770   1.7566\n",
       "4       2015-01-07   2.7000   1.1820   0.7528   1.2695   1.7697\n",
       "5       2015-01-08   2.6635   1.1811   0.7517   1.2794   1.7645"
      ]
     },
     "execution_count": 4,
     "metadata": {},
     "output_type": "execute_result"
    }
   ],
   "source": [
    "forex.head()"
   ]
  },
  {
   "cell_type": "markdown",
   "metadata": {},
   "source": [
    "# Stationarity Check"
   ]
  },
  {
   "cell_type": "code",
   "execution_count": 2,
   "metadata": {},
   "outputs": [],
   "source": [
    "from statsmodels.tsa.stattools import adfuller\n",
    "def test_stationarity(timeseries):\n",
    "    \n",
    "    #Determing rolling statistics\n",
    "    rolmean = pd.rolling_mean(timeseries, window=12)\n",
    "    rolstd = pd.rolling_std(timeseries, window=12)\n",
    "\n",
    "    #Plot rolling statistics:\n",
    "    orig = plt.plot(timeseries, color='blue',label='Original')\n",
    "    mean = plt.plot(rolmean, color='red', label='Rolling Mean')\n",
    "    std = plt.plot(rolstd, color='black', label = 'Rolling Std')\n",
    "    plt.legend(loc='best')\n",
    "    plt.title('Rolling Mean & Standard Deviation')\n",
    "    plt.show(block=False)\n",
    "    \n",
    "    #Perform Dickey-Fuller test:\n",
    "    print('Results of Dickey-Fuller Test:')\n",
    "    dftest = adfuller(timeseries, autolag='AIC')\n",
    "    dfoutput = pd.Series(dftest[0:4], index=['Test Statistic','p-value','#Lags Used','Number of Observations Used'])\n",
    "    for key,value in dftest[4].items():\n",
    "        dfoutput['Critical Value (%s)'%key] = value\n",
    "    print(dfoutput)"
   ]
  },
  {
   "cell_type": "markdown",
   "metadata": {},
   "source": [
    "# OLS Regression"
   ]
  },
  {
   "cell_type": "code",
   "execution_count": 5,
   "metadata": {},
   "outputs": [],
   "source": [
    "from sklearn.linear_model import LinearRegression"
   ]
  },
  {
   "cell_type": "code",
   "execution_count": null,
   "metadata": {},
   "outputs": [],
   "source": [
    "X = sm.add_constant(X)"
   ]
  }
 ],
 "metadata": {
  "kernelspec": {
   "display_name": "Python 3",
   "language": "python",
   "name": "python3"
  },
  "language_info": {
   "codemirror_mode": {
    "name": "ipython",
    "version": 3
   },
   "file_extension": ".py",
   "mimetype": "text/x-python",
   "name": "python",
   "nbconvert_exporter": "python",
   "pygments_lexer": "ipython3",
   "version": "3.6.6"
  }
 },
 "nbformat": 4,
 "nbformat_minor": 2
}
