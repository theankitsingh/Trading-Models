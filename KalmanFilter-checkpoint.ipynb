{
 "cells": [
  {
   "cell_type": "markdown",
   "metadata": {},
   "source": [
    "# Kalman Filter"
   ]
  },
  {
   "cell_type": "code",
   "execution_count": 1,
   "metadata": {},
   "outputs": [],
   "source": [
    "import numpy as np\n",
    "import scipy.optimize as optimize\n",
    "import scipy as sc\n",
    "import math as math\n",
    "import pandas as pd\n",
    "import matplotlib.pyplot as plt"
   ]
  },
  {
   "cell_type": "code",
   "execution_count": 2,
   "metadata": {},
   "outputs": [],
   "source": [
    "def KalmanFilterForecast(R, k):\n",
    "    r = 1.91*np.log(np.var(R,axis = 0,ddof=1))\n",
    "    if k == 1:\n",
    "        param0 = np.append(np.append(np.append(np.array(100),r,),100),r)\n",
    "        \n",
    "    if k == 2:\n",
    "        param0 = np.append(np.append(np.append(np.array([100,100]),4*r),[-100,-100]),[r,r])\n",
    "    def objective(params):\n",
    "        Likelihood,_ = KalmanFilter(R,k,params)\n",
    "        return Likelihood\n",
    "    params_star = optimize.fmin(objective,param0)\n",
    "    print(params_star)\n",
    "    #params_star = optimize.minimize(objective,param0,method='CG')\n",
    "    #params_star = params_star.values()[5]\n",
    "    #print(params_star)\n",
    "    u_smooth = KalmanSmoother(R, k, params_star)\n",
    "#     Z = np.array(params_star[0])\n",
    "#     H = np.exp(params_star[1]);\n",
    "#     T = np.array(params_star[2])\n",
    "#     Q = np.exp(params_star[3]);\n",
    "    Z = 2/(1+np.exp(-params_star[0]))-1;\n",
    "    H = np.exp(params_star[1]);\n",
    "    T = 2/(1+np.exp(-params_star[2]))-1;\n",
    "    Q = np.exp(params_star[3]);\n",
    "      \n",
    "    u_tplus1 = T*u_smooth[-1] + np.random.normal()*np.sqrt(Q)\n",
    "    price_tplus1 = Z*u_tplus1 + np.random.normal()*np.sqrt(H)\n",
    "    print('T*u_smooth[-1] is {}; Z*u_tplus1 is {}'.format(T*u_smooth[-1],Z*u_tplus1))\n",
    "    return price_tplus1,u_tplus1,u_smooth,params_star"
   ]
  },
  {
   "cell_type": "code",
   "execution_count": 3,
   "metadata": {},
   "outputs": [],
   "source": [
    "i = 0\n",
    "def KalmanFilter(R,k,params):\n",
    "    S_length = R.shape[0]\n",
    "    S = S_length+1\n",
    "    if k == 1:\n",
    "#         Z = np.array(params[0])\n",
    "#         H = np.array(np.exp(params[1]))\n",
    "#         T = np.array(params[2])\n",
    "#         Q = np.array(np.exp(params[3]))\n",
    "        Z = np.array(2/(1+np.exp(-params[0]))-1) #sample space\n",
    "        H = np.array(np.exp(params[1]))  #variance of y\n",
    "        T = np.array(2/(1+np.exp(-params[2]))-1)  #mean\n",
    "        Q = np.array(np.exp(params[3]))  #0.5 variance of y\n",
    "    if k == 2:\n",
    "        Z = np.array([[2/(1+np.exp(-params[0]))-1,2/(1+np.exp(-params[1]))-1]])\n",
    "        H = np.array(np.exp(params[2]))\n",
    "        T = np.array([[2/(1+np.exp(-params[3]))-1,0],[0,2/(1+np.exp(-params[4]))-1]])\n",
    "        Q = np.array([[np.exp(params[5]),0],[0,np.exp(params[6])]])\n",
    "    u_predict = np.zeros((k,S));\n",
    "    u_update = np.zeros((k,S));\n",
    "    P_predict = np.zeros((k,k,S));\n",
    "    P_update = np.zeros((k,k,S));\n",
    "    v = np.zeros((1,S));\n",
    "    F = np.zeros((1,S));\n",
    "    KF_Dens = np.zeros((1,S));\n",
    "    for i in range(S):\n",
    "        if i == 0:\n",
    "            P_update[:,:,i] = 1000*np.eye(k)\n",
    "            P_predict[:,:,i] = T.dot(np.array(P_update[0][0][0]).dot(T.T))+Q\n",
    "        else:\n",
    "            F[0][i] = Z.dot(P_predict[:,:,i-1].dot(Z.T))+H\n",
    "            v[0][i] = R.T.flatten()[i-1]-Z.dot(u_predict[:,i-1])\n",
    "            u_update[:,i] = u_predict[:,i-1]+P_predict[:,:,i-1].dot(Z.T.dot(np.linalg.inv([[F[0][i]]]).dot(v[0][i]))).flatten()\n",
    "            u_predict[:,i] = T.dot(u_update[:,i])\n",
    "            P_update[:,:,i] = P_predict[:,:,i-1]-P_predict[:,:,i-1].dot(Z.T.dot(np.linalg.inv([[F[0][i]]]).dot(Z.dot(P_predict[:,:,i-1]))))\n",
    "            P_predict[:,:,i] = T.dot(P_update[:,:,i]).dot(T.T)+Q\n",
    "            KF_Dens[0][i] = (1.0/2)*np.log(2*np.pi)+(1.0/2)*np.log(np.abs(F[0][i]))+(1.0/2)+v[0][i].T*np.linalg.inv([[F[0][i]]])*v[0][i]\n",
    "    Likelihood = np.sum(KF_Dens)-KF_Dens[0][0]\n",
    "    varargout = [u_update, P_update, P_predict, T]       \n",
    "    return Likelihood, varargout"
   ]
  },
  {
   "cell_type": "code",
   "execution_count": 4,
   "metadata": {},
   "outputs": [
    {
     "data": {
      "text/plain": [
       "array(0.98811896)"
      ]
     },
     "execution_count": 4,
     "metadata": {},
     "output_type": "execute_result"
    }
   ],
   "source": [
    " T = np.array(2/(1+np.exp(-5.12))-1)\n",
    "T"
   ]
  },
  {
   "cell_type": "code",
   "execution_count": 5,
   "metadata": {},
   "outputs": [],
   "source": [
    "def KalmanSmoother(R,k,params_star):\n",
    "    _,vararg = KalmanFilter(R,k,params_star)\n",
    "    u_update = vararg[0]\n",
    "    P_update = vararg[1]\n",
    "    P_predict = vararg[2]\n",
    "    T = np.array(vararg[3])\n",
    "    S = R.shape[0]+1\n",
    "    u_smooth = np.zeros((k,S))\n",
    "    P_smooth = np.zeros((k,k,S))\n",
    "    u_smooth[:,S-1] = u_update[:,S-1]\n",
    "    P_smooth[:,:,S-1] = P_update[:,:,S-1]    \n",
    "    for t in reversed(range(1,S)): # 2 to S inverse sequence\n",
    "        u_smooth[:,t-1] = u_update[:,t] + P_update[:,:,t].dot(T.T.dot(np.linalg.inv(P_predict[:,:,t]).dot((u_smooth[:,t]-T.dot(u_update[:,t])))))\n",
    "        P_smooth[:,:,t-1] = P_update[:,:,t] + P_update[:,:,t].dot(T.T).dot(np.linalg.inv(P_predict[:,:,t])).dot((P_smooth[:,:,t]-P_predict[:,:,t])).dot(np.linalg.inv(P_predict[:,:,t])).dot(T).dot(P_update[:,:,t])\n",
    "    u_smooth = u_smooth.flatten()[1:]\n",
    "    return u_smooth"
   ]
  },
  {
   "cell_type": "code",
   "execution_count": 6,
   "metadata": {},
   "outputs": [],
   "source": [
    "data = pd.read_excel(\"../0.Data/forex.xlsx\")\n",
    "data=data.dropna()\n",
    "R=data['DEXUSUK'].values\n",
    "#R=np.matrix(R)\n",
    "k=1\n"
   ]
  },
  {
   "cell_type": "code",
   "execution_count": 7,
   "metadata": {},
   "outputs": [
    {
     "name": "stdout",
     "output_type": "stream",
     "text": [
      "Optimization terminated successfully.\n",
      "         Current function value: -1859.029424\n",
      "         Iterations: 181\n",
      "         Function evaluations: 386\n",
      "[-495.92827179  -39.24853112  219.21244074   -7.99374167]\n",
      "T*u_smooth[-1] is -1.6511999999999996; Z*u_tplus1 is 1.6513175191113183\n"
     ]
    }
   ],
   "source": [
    "price_tplus1,u_tplus1,u_smooth,params_star = KalmanFilterForecast(R, k)\n",
    "#KalmanFilterForecast(R, k)\n"
   ]
  },
  {
   "cell_type": "code",
   "execution_count": 8,
   "metadata": {},
   "outputs": [
    {
     "name": "stdout",
     "output_type": "stream",
     "text": [
      "1.6513175229802768\n"
     ]
    }
   ],
   "source": [
    "print(price_tplus1)"
   ]
  },
  {
   "cell_type": "code",
   "execution_count": 9,
   "metadata": {},
   "outputs": [
    {
     "name": "stdout",
     "output_type": "stream",
     "text": [
      "-1.6513175191113183\n"
     ]
    }
   ],
   "source": [
    "print(u_tplus1)"
   ]
  },
  {
   "cell_type": "code",
   "execution_count": 10,
   "metadata": {},
   "outputs": [
    {
     "name": "stdout",
     "output_type": "stream",
     "text": [
      "[1.7588 1.7566 1.7697 1.7645 1.7645 1.7643 1.7612 1.7715 1.7628 1.7618\n",
      " 1.7663 1.7842 1.7885 1.7874 1.783  1.7733 1.7688 1.782  1.7781 1.7807\n",
      " 1.7626 1.7462 1.7444 1.7405 1.7411 1.7454 1.7438 1.7343 1.7354 1.7403\n",
      " 1.7447 1.7425 1.7522 1.7448 1.7409 1.7539 1.7473 1.7493 1.7531 1.7492\n",
      " 1.7362 1.7359 1.7366 1.7256 1.731  1.7479 1.746  1.7552 1.7567 1.7563\n",
      " 1.7459 1.7483 1.7367 1.7427 1.747  1.7497 1.7356 1.7448 1.7393 1.7389\n",
      " 1.7559 1.7497 1.7504 1.7407 1.7405 1.7467 1.7508 1.7529 1.751  1.7716\n",
      " 1.7762 1.7895 1.7801 1.7817 1.7839 1.7876 1.7897 1.8011 1.822  1.8286\n",
      " 1.8397 1.8446 1.8485 1.8588 1.8584 1.8632 1.8648 1.8842 1.8911 1.8836\n",
      " 1.8819 1.882  1.8878 1.8755 1.8861 1.8809 1.8719 1.8566 1.8825 1.8732\n",
      " 1.8686 1.8817 1.8786 1.8608 1.8585 1.8425 1.8426 1.844  1.8398 1.8491\n",
      " 1.8477 1.8484 1.8401 1.8399 1.846  1.8306 1.8204 1.819  1.8237 1.8159\n",
      " 1.8108 1.8491 1.841  1.8342 1.8376 1.8513 1.842  1.8431 1.8347 1.8404\n",
      " 1.8364 1.8203 1.8271 1.8377 1.8495 1.8586 1.8492 1.8407 1.8474 1.8627\n",
      " 1.8645 1.8685 1.8711 1.8781 1.8847 1.9098 1.9102 1.9077 1.9089 1.8888\n",
      " 1.8952 1.8902 1.8948 1.8999 1.894  1.8808 1.8968 1.8881 1.8929 1.8884\n",
      " 1.8884 1.8968 1.8914 1.9042 1.9024 1.905  1.8926 1.8763 1.8655 1.863\n",
      " 1.8747 1.8767 1.8886 1.8783 1.8773 1.8828 1.8894 1.897  1.9012 1.9001\n",
      " 1.8954 1.8866 1.8746 1.8716 1.8861 1.8873 1.8839 1.8772 1.8712 1.8548\n",
      " 1.8558 1.8551 1.8606 1.8734 1.8675 1.876  1.8828 1.871  1.8745 1.8772\n",
      " 1.8876 1.8968 1.9025 1.9084 1.9091 1.9088 1.9011 1.8967 1.9098 1.9057\n",
      " 1.9067 1.9024 1.8946 1.8883 1.8902 1.8936 1.8963 1.8984 1.9145 1.9315\n",
      " 1.948  1.9492 1.9693 1.9794 1.9788 1.9746 1.9692 1.9628 1.9564 1.9552\n",
      " 1.9655 1.9663 1.9646 1.9538 1.9458 1.9666 1.9648 1.9622 1.957  1.9566\n",
      " 1.9621 1.9586 1.9498 1.9443 1.9305 1.9385 1.94   1.9334 1.9439 1.9577\n",
      " 1.9605 1.9715 1.9759 1.9772 1.9847 1.9675 1.9703 1.9598 1.9592 1.9617\n",
      " 1.9611 1.9686 1.9662 1.96   1.9693 1.9699 1.9586 1.9512 1.9474 1.9443\n",
      " 1.9532 1.9499 1.9547 1.9524 1.9571 1.9639 1.9631 1.9661 1.9613 1.9579\n",
      " 1.9458 1.9235 1.927  1.9315 1.93   1.9318 1.9291 1.9322 1.9337 1.9365\n",
      " 1.9423 1.946  1.958  1.9596 1.9672 1.9632 1.9694 1.9664 1.9611 1.9627\n",
      " 1.9685 1.9786 1.9781 1.9756 1.9708 1.9655 1.9608 1.9718 1.9786 1.9769\n",
      " 1.9829 1.9907 2.0061 2.0041 2.0029 2.0047 2.0017 2.0028 2.0042 1.9903\n",
      " 1.9985 2.     1.9993 1.991  1.9878 1.9931 1.9944 1.9902 1.9963 1.9833\n",
      " 1.9824 1.9803 1.9862 1.9774 1.9748 1.9755 1.9695 1.9768 1.9879 1.9852\n",
      " 1.9845 1.9814 1.9797 1.9804 1.9922 1.9941 1.9915 1.9798 1.9657 1.9686\n",
      " 1.975  1.9728 1.9696 1.9765 1.9822 1.9884 1.9937 1.9924 1.9975 1.9962\n",
      " 1.9997 1.9965 2.0022 2.0063 2.0161 2.0168 2.0114 2.0119 2.0166 2.0248\n",
      " 2.032  2.0288 2.0344 2.0374 2.0455 2.0534 2.049  2.0566 2.0585 2.0626\n",
      " 2.0511 2.0488 2.029  2.0238 2.0364 2.0309 2.0346 2.0426 2.0293 2.0202\n",
      " 2.0368 2.0271 2.0219 2.0123 2.     1.9923 1.9829 1.9828 1.983  1.9813\n",
      " 1.9916 2.0035 2.0099 2.0134 2.0065 2.0182 2.016  2.0165 2.0165 2.0109\n",
      " 2.0242 2.0283 2.0288 2.0319 2.0314 2.0278 2.0067 1.992  1.9973 1.9983\n",
      " 2.0132 2.0208 2.0222 2.0169 2.0159 2.0235 2.0389 2.0436 2.0417 2.0369\n",
      " 2.0392 2.0436 2.0436 2.0331 2.0342 2.034  2.0419 2.0327 2.0387 2.0457\n",
      " 2.0484 2.0279 2.0495 2.0491 2.0485 2.0514 2.0609 2.0671 2.0777 2.0818\n",
      " 2.082  2.0799 2.0859 2.1045 2.1104 2.0911 2.0586 2.0483 2.048  2.0478\n",
      " 2.0652 2.0585 2.0585 2.0564 2.0653 2.0688 2.0642 2.0567 2.0658 2.0577\n",
      " 2.0288 2.0289 2.0289 2.0457 2.0387 2.0494 2.0395 2.0197 2.0168 2.014\n",
      " 1.9931 1.9821 1.9833 1.9774 1.9907 1.9929 1.9843 1.9733 1.9757 1.9703\n",
      " 1.9731 1.9564 1.9565 1.9592 1.9583 1.9671 1.9744 1.9529 1.9515 1.9733\n",
      " 1.9802 1.9857 1.9857 1.988  1.9895 1.9687 1.9777 1.9626 1.9604 1.942\n",
      " 1.9473 1.9486 1.9622 1.9618 1.9708 1.9613 1.9511 1.9614 1.9668 1.9668\n",
      " 1.9747 1.9923 1.9879 1.9864 1.985  1.9854 1.9939 2.0073 2.0128 2.0166\n",
      " 2.0041 2.0211 2.0311 2.0294 2.0008 2.0216 1.9858 1.9823 1.9826 1.9852\n",
      " 1.9997 2.0019 2.0097 1.989  1.9855 1.9774 1.9827 1.9961 1.9947 1.9855\n",
      " 1.969  1.9726 1.9742 1.9707 1.9816 1.9627 1.9756 1.9908 1.9965 1.9813\n",
      " 1.9994 1.9786 1.9716 1.9833 1.9908 1.9747 1.9847 1.9749 1.9756 1.9679\n",
      " 1.9747 1.9522 1.9543 1.9486 1.9616 1.947  1.9451 1.9488 1.958  1.9472\n",
      " 1.9705 1.9669 1.9785 1.9818 1.9751 1.9759 1.9793 1.9666 1.965  1.9548\n",
      " 1.9563 1.9695 1.9758 1.9543 1.9646 1.9467 1.9496 1.9637 1.9544 1.957\n",
      " 1.9729 1.9737 1.9609 1.9707 1.9672 1.9873 1.9938 1.9906 1.993  1.9925\n",
      " 1.9697 1.9685 1.9812 1.9777 1.9895 1.9925 2.0036 1.9995 2.0038 1.9985\n",
      " 1.9979 1.9941 2.0021 1.9832 1.988  1.9943 1.9805 1.981  1.9806 1.9743\n",
      " 1.9606 1.9532 1.9479 1.9439 1.9193 1.9144 1.9005 1.8682 1.8715 1.8651\n",
      " 1.8673 1.8655 1.8603 1.8758 1.8544 1.8587 1.8387 1.8318 1.8264 1.819\n",
      " 1.7853 1.7689 1.7687 1.7543 1.7672 1.7547 1.7497 1.7896 1.7877 1.7802\n",
      " 1.7895 1.8186 1.8297 1.8484 1.8558 1.8502 1.8406 1.84   1.8044 1.7804\n",
      " 1.7804 1.7655 1.774  1.738  1.7592 1.7225 1.7037 1.7482 1.7432 1.7243\n",
      " 1.7307 1.7134 1.6837 1.6174 1.6181 1.5631 1.5472 1.5591 1.6298 1.627\n",
      " 1.6165 1.5855 1.6095 1.6156 1.5814 1.5788 1.5639 1.5012 1.4799 1.486\n",
      " 1.503  1.5042 1.5095 1.4789 1.4816 1.5349 1.5218 1.5348 1.484  1.4949\n",
      " 1.4783 1.4791 1.4606 1.4831 1.4776 1.483  1.4953 1.4874 1.5278 1.532\n",
      " 1.5457 1.5103 1.4854 1.4805 1.4761 1.47   1.4591 1.4395 1.452  1.4602\n",
      " 1.4777 1.5254 1.519  1.5239 1.4827 1.4528 1.4602 1.4737 1.4023 1.3728\n",
      " 1.384  1.3658 1.396  1.4148 1.4317 1.4262 1.4413 1.4228 1.4394 1.4472\n",
      " 1.4633 1.4775 1.4936 1.4604 1.4367 1.4248 1.4422 1.4224 1.4307 1.4333\n",
      " 1.4553 1.4408 1.4265 1.4342 1.4276 1.3989 1.4034 1.4142 1.4124 1.411\n",
      " 1.3757 1.384  1.378  1.3811 1.3972 1.4091 1.4018 1.3974 1.4584 1.4435\n",
      " 1.4496 1.473  1.4585 1.4497 1.4325 1.4148 1.43   1.4402 1.47   1.4801\n",
      " 1.4712 1.4744 1.4692 1.4623 1.4635 1.4831 1.4907 1.499  1.4909 1.4778\n",
      " 1.4532 1.4688 1.4496 1.4635 1.4697 1.4678 1.4607 1.4802 1.4799 1.4881\n",
      " 1.4985 1.5099 1.5063 1.5019 1.509  1.5145 1.524  1.5165 1.5195 1.5222\n",
      " 1.5309 1.5501 1.567  1.5763 1.5892 1.5938 1.5956 1.616  1.6448 1.6515\n",
      " 1.6405 1.6173 1.6017 1.5976 1.6267 1.6334 1.6547 1.6523 1.6268 1.6446\n",
      " 1.6293 1.6369 1.6537 1.6343 1.6344 1.6486 1.6336 1.6498 1.6533 1.6452\n",
      " 1.6524 1.6398 1.623  1.6158 1.6027 1.6301 1.6185 1.6179 1.6294 1.6439\n",
      " 1.6417 1.633  1.6494 1.6419 1.6439 1.6562 1.6432 1.6486 1.6477 1.6379\n",
      " 1.6483 1.6713 1.6956 1.6932 1.6977 1.6774 1.6669 1.6487 1.6501 1.6538\n",
      " 1.658  1.6529 1.6323 1.6418 1.6555 1.6494 1.6503 1.6417 1.643  1.6235\n",
      " 1.6212 1.6331 1.6314 1.6168 1.6354 1.6378 1.6512 1.6512]\n"
     ]
    }
   ],
   "source": [
    "u_smooth=-u_smooth\n",
    "print(u_smooth)"
   ]
  },
  {
   "cell_type": "code",
   "execution_count": 11,
   "metadata": {},
   "outputs": [
    {
     "ename": "AttributeError",
     "evalue": "'numpy.ndarray' object has no attribute 'obseru_smooth'",
     "output_type": "error",
     "traceback": [
      "\u001b[0;31m---------------------------------------------------------------------------\u001b[0m",
      "\u001b[0;31mAttributeError\u001b[0m                            Traceback (most recent call last)",
      "\u001b[0;32m<ipython-input-11-08e024031b55>\u001b[0m in \u001b[0;36m<module>\u001b[0;34m()\u001b[0m\n\u001b[1;32m      2\u001b[0m \u001b[0;31m#plt.plot(price_tplus1,'y',label = \"price_tplus1\")\u001b[0m\u001b[0;34m\u001b[0m\u001b[0;34m\u001b[0m\u001b[0m\n\u001b[1;32m      3\u001b[0m \u001b[0;31m#plt.plot(\\,'r',label = \"u_tplus1\")\u001b[0m\u001b[0;34m\u001b[0m\u001b[0;34m\u001b[0m\u001b[0m\n\u001b[0;32m----> 4\u001b[0;31m \u001b[0mplt\u001b[0m\u001b[0;34m.\u001b[0m\u001b[0mplot\u001b[0m\u001b[0;34m(\u001b[0m\u001b[0mR\u001b[0m\u001b[0;34m.\u001b[0m\u001b[0mobseru_smooth\u001b[0m\u001b[0;34m,\u001b[0m\u001b[0;34m'b'\u001b[0m\u001b[0;34m,\u001b[0m\u001b[0mlabel\u001b[0m \u001b[0;34m=\u001b[0m \u001b[0;34m\"u_smooth\"\u001b[0m\u001b[0;34m)\u001b[0m\u001b[0;34m\u001b[0m\u001b[0m\n\u001b[0m\u001b[1;32m      5\u001b[0m \u001b[0mplt\u001b[0m\u001b[0;34m.\u001b[0m\u001b[0mplot\u001b[0m\u001b[0;34m(\u001b[0m\u001b[0mR\u001b[0m\u001b[0;34m,\u001b[0m\u001b[0;34m'g'\u001b[0m\u001b[0;34m,\u001b[0m\u001b[0mlabel\u001b[0m \u001b[0;34m=\u001b[0m \u001b[0;34m\"price\"\u001b[0m\u001b[0;34m)\u001b[0m\u001b[0;34m\u001b[0m\u001b[0m\n\u001b[1;32m      6\u001b[0m \u001b[0mplt\u001b[0m\u001b[0;34m.\u001b[0m\u001b[0mshow\u001b[0m\u001b[0;34m(\u001b[0m\u001b[0;34m)\u001b[0m\u001b[0;34m\u001b[0m\u001b[0m\n",
      "\u001b[0;31mAttributeError\u001b[0m: 'numpy.ndarray' object has no attribute 'obseru_smooth'"
     ]
    },
    {
     "data": {
      "text/plain": [
       "<Figure size 1296x720 with 0 Axes>"
      ]
     },
     "metadata": {},
     "output_type": "display_data"
    }
   ],
   "source": [
    "fig = plt.figure(figsize=(18,10))\n",
    "#plt.plot(price_tplus1,'y',label = \"price_tplus1\")\n",
    "#plt.plot(\\,'r',label = \"u_tplus1\")\n",
    "plt.plot(R.obseru_smooth,'b',label = \"u_smooth\")\n",
    "plt.plot(R,'g',label = \"price\")\n",
    "plt.show()\n"
   ]
  },
  {
   "cell_type": "code",
   "execution_count": null,
   "metadata": {},
   "outputs": [],
   "source": []
  }
 ],
 "metadata": {
  "kernelspec": {
   "display_name": "Python 3",
   "language": "python",
   "name": "python3"
  },
  "language_info": {
   "codemirror_mode": {
    "name": "ipython",
    "version": 3
   },
   "file_extension": ".py",
   "mimetype": "text/x-python",
   "name": "python",
   "nbconvert_exporter": "python",
   "pygments_lexer": "ipython3",
   "version": "3.6.6"
  }
 },
 "nbformat": 4,
 "nbformat_minor": 2
}
